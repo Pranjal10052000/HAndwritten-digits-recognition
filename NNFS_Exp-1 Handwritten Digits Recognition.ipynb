{
 "cells": [
  {
   "cell_type": "code",
   "execution_count": 2,
   "id": "03fa0c69",
   "metadata": {},
   "outputs": [],
   "source": [
    "from sklearn.datasets import load_digits\n",
    "data = load_digits().data\n",
    "images = load_digits().images\n",
    "target = load_digits().target"
   ]
  },
  {
   "cell_type": "code",
   "execution_count": 3,
   "id": "2218b669",
   "metadata": {},
   "outputs": [
    {
     "name": "stdout",
     "output_type": "stream",
     "text": [
      "data shape (1797, 64)\n",
      "images shape (1797, 8, 8)\n",
      "target shape (1797,)\n"
     ]
    }
   ],
   "source": [
    "print('data shape', data.shape)\n",
    "print('images shape', images.shape)\n",
    "print('target shape', target.shape)"
   ]
  },
  {
   "cell_type": "code",
   "execution_count": 4,
   "id": "40200a49",
   "metadata": {},
   "outputs": [
    {
     "data": {
      "text/plain": [
       "<matplotlib.image.AxesImage at 0x20f09439400>"
      ]
     },
     "execution_count": 4,
     "metadata": {},
     "output_type": "execute_result"
    },
    {
     "data": {
      "image/png": "[encoded data removed]",
      "text/plain": [
       "<Figure size 432x288 with 1 Axes>"
      ]
     },
     "metadata": {
      "needs_background": "light"
     },
     "output_type": "display_data"
    }
   ],
   "source": [
    "import matplotlib.pyplot as plt\n",
    "plt.imshow(images[0], cmap = 'gray')"
   ]
  },
  {
   "cell_type": "code",
   "execution_count": 5,
   "id": "8ecf1e4c",
   "metadata": {},
   "outputs": [
    {
     "name": "stdout",
     "output_type": "stream",
     "text": [
      "target 0\n"
     ]
    }
   ],
   "source": [
    "print('target', target[0])"
   ]
  },
  {
   "cell_type": "code",
   "execution_count": 6,
   "id": "52e987e5",
   "metadata": {},
   "outputs": [
    {
     "data": {
      "image/png": "[encoded data removed]",
      "text/plain": [
       "<Figure size 432x288 with 1 Axes>"
      ]
     },
     "metadata": {
      "needs_background": "light"
     },
     "output_type": "display_data"
    }
   ],
   "source": [
    "plt.imshow(data[0].reshape(1,64), cmap ='gray' );"
   ]
  },
  {
   "cell_type": "code",
   "execution_count": 7,
   "id": "8b1efea5",
   "metadata": {},
   "outputs": [
    {
     "name": "stdout",
     "output_type": "stream",
     "text": [
      "[ 0.  0.  1. 14.  2.  0.  0.  0.  0.  0.  0. 16.  5.  0.  0.  0.  0.  0.\n",
      "  0. 14. 10.  0.  0.  0.  0.  0.  0. 11. 16.  1.  0.  0.  0.  0.  0.  3.\n",
      " 14.  6.  0.  0.  0.  0.  0.  0.  8. 12.  0.  0.  0.  0. 10. 14. 13. 16.\n",
      "  8.  3.  0.  0.  2. 11. 12. 15. 16. 15.]\n",
      "\n",
      "[[ 0.  0.  1. 14.  2.  0.  0.  0.]\n",
      " [ 0.  0.  0. 16.  5.  0.  0.  0.]\n",
      " [ 0.  0.  0. 14. 10.  0.  0.  0.]\n",
      " [ 0.  0.  0. 11. 16.  1.  0.  0.]\n",
      " [ 0.  0.  0.  3. 14.  6.  0.  0.]\n",
      " [ 0.  0.  0.  0.  8. 12.  0.  0.]\n",
      " [ 0.  0. 10. 14. 13. 16.  8.  3.]\n",
      " [ 0.  0.  2. 11. 12. 15. 16. 15.]]\n"
     ]
    }
   ],
   "source": [
    "print(data[1000])\n",
    "print()\n",
    "print(images[1000])"
   ]
  },
  {
   "cell_type": "code",
   "execution_count": 8,
   "id": "800ea1ec",
   "metadata": {},
   "outputs": [],
   "source": [
    "from sklearn.model_selection import train_test_split\n",
    "X_train, X_test, y_train, y_test = train_test_split(data, target, test_size= 0.2)"
   ]
  },
  {
   "cell_type": "code",
   "execution_count": 9,
   "id": "2dee821a",
   "metadata": {},
   "outputs": [
    {
     "data": {
      "text/plain": [
       "KNeighborsClassifier(n_neighbors=3)"
      ]
     },
     "execution_count": 9,
     "metadata": {},
     "output_type": "execute_result"
    }
   ],
   "source": [
    "from sklearn.neighbors import KNeighborsClassifier\n",
    "knn_mod = KNeighborsClassifier(n_neighbors= 3)\n",
    "knn_mod.fit(X_train, y_train)"
   ]
  },
  {
   "cell_type": "code",
   "execution_count": 10,
   "id": "26889e70",
   "metadata": {},
   "outputs": [
    {
     "name": "stdout",
     "output_type": "stream",
     "text": [
      "train data shape (1437, 64)\n",
      "test data shape (360, 64)\n"
     ]
    }
   ],
   "source": [
    "print('train data shape', X_train.shape)\n",
    "print('test data shape', X_test.shape)"
   ]
  },
  {
   "cell_type": "code",
   "execution_count": 11,
   "id": "27e8da66",
   "metadata": {},
   "outputs": [],
   "source": [
    "predict_test = knn_mod.predict(X_test)"
   ]
  },
  {
   "cell_type": "code",
   "execution_count": 14,
   "id": "35efff4d",
   "metadata": {},
   "outputs": [
    {
     "name": "stdout",
     "output_type": "stream",
     "text": [
      "target score [5 6 0 9 1 3 0 2 5 4 5 3 6 1 0 6 8 5 7 6 3 8 9 4 4 8 4 9 2 8 5 9 7 6 1 3 7\n",
      " 5 1 8 6 9 4 7 8 2 0 0 3 4 0 4 1 1 3 4 6 0 6 1 1 0 1 4 6 6 8 5 4 8 6 1 0 6\n",
      " 5 7 4 3 7 5 0 3 8 1 7 2 6 0 2 3 4 0 8 2 2 7 4 2 6 9 0 1 0 7 9 8 9 2 5 1 6\n",
      " 7 5 6 9 2 5 7 9 7 0 3 4 6 1 0 4 6 5 9 5 5 0 3 4 2 0 8 2 7 0 6 6 3 5 8 3 6\n",
      " 7 9 3 7 0 2 5 2 9 5 8 3 5 5 1 7 9 8 8 3 7 7 6 6 8 9 8 5 7 0 8 5 1 5 0 0 8\n",
      " 4 3 1 8 9 3 5 3 0 9 4 2 6 0 4 7 3 3 1 0 5 8 5 0 0 1 4 8 9 9 5 1 4 5 9 2 6\n",
      " 8 0 3 6 1 1 6 8 1 7 1 7 0 6 6 0 8 3 3 8 6 8 9 9 4 0 7 2 9 6 2 7 3 5 3 7 8\n",
      " 1 4 5 8 8 8 9 7 4 7 2 0 0 0 6 1 4 7 1 8 3 1 0 7 3 4 7 9 4 6 6 9 3 8 3 9 8\n",
      " 8 4 6 3 3 3 3 0 4 1 0 2 8 0 5 7 1 0 5 5 9 5 7 6 9 1 5 2 2 9 3 4 6 3 4 2 0\n",
      " 2 2 9 6 8 3 5 4 6 1 1 3 5 2 7 1 0 0 1 3 2 7 5 0 4 4 8]\n",
      "predicted score [5 6 0 9 1 3 0 2 5 4 5 3 6 1 0 6 8 5 7 6 3 8 9 4 4 8 4 9 2 8 5 9 7 6 1 3 7\n",
      " 5 1 8 6 9 4 7 3 2 0 0 3 4 0 4 1 1 3 4 6 0 6 1 1 0 1 4 6 6 8 5 4 8 6 1 0 6\n",
      " 5 7 4 3 7 5 0 3 1 1 7 2 6 0 2 3 4 0 8 2 2 7 4 2 6 9 0 1 0 7 9 8 9 2 5 1 6\n",
      " 7 5 6 9 2 5 7 9 7 0 3 4 6 1 0 4 6 5 9 5 5 0 3 4 2 0 8 2 7 0 6 6 3 5 8 3 6\n",
      " 7 9 3 7 0 2 5 2 9 5 8 3 5 5 1 7 9 8 8 3 7 7 6 6 8 9 8 5 7 0 8 5 1 5 0 0 8\n",
      " 4 3 1 8 9 3 5 3 0 9 4 2 6 0 4 7 3 3 1 0 5 8 5 0 0 1 4 8 9 3 5 1 4 5 9 2 6\n",
      " 8 0 3 6 1 1 6 8 1 7 1 7 0 6 6 0 8 3 3 8 6 8 9 9 4 0 9 2 9 6 2 7 3 5 3 7 9\n",
      " 1 4 5 8 8 8 9 7 4 7 2 0 0 0 6 1 4 7 1 8 3 1 0 7 3 4 7 9 4 6 6 9 3 8 3 9 8\n",
      " 8 4 6 3 3 3 3 0 4 1 0 2 8 0 5 7 1 0 5 5 9 5 7 6 9 1 5 2 2 9 3 4 6 3 4 2 0\n",
      " 2 2 9 6 8 3 5 4 6 1 1 3 5 2 7 1 0 0 1 3 2 7 5 0 4 4 8]\n"
     ]
    }
   ],
   "source": [
    "print('target score', y_test)\n",
    "print('predicted score', predict_test)"
   ]
  },
  {
   "cell_type": "code",
   "execution_count": 15,
   "id": "a928341e",
   "metadata": {},
   "outputs": [
    {
     "data": {
      "image/png": "[encoded data removed]",
      "text/plain": [
       "<Figure size 432x288 with 1 Axes>"
      ]
     },
     "metadata": {
      "needs_background": "light"
     },
     "output_type": "display_data"
    },
    {
     "name": "stdout",
     "output_type": "stream",
     "text": [
      "given digit is  [5]\n"
     ]
    },
    {
     "data": {
      "image/png": "[encoded data removed]",
      "text/plain": [
       "<Figure size 432x288 with 1 Axes>"
      ]
     },
     "metadata": {
      "needs_background": "light"
     },
     "output_type": "display_data"
    },
    {
     "name": "stdout",
     "output_type": "stream",
     "text": [
      "given digit is  [6]\n"
     ]
    },
    {
     "data": {
      "image/png": "[encoded data removed]",
      "text/plain": [
       "<Figure size 432x288 with 1 Axes>"
      ]
     },
     "metadata": {
      "needs_background": "light"
     },
     "output_type": "display_data"
    },
    {
     "name": "stdout",
     "output_type": "stream",
     "text": [
      "given digit is  [0]\n"
     ]
    },
    {
     "data": {
      "image/png": "[encoded data removed]",
      "text/plain": [
       "<Figure size 432x288 with 1 Axes>"
      ]
     },
     "metadata": {
      "needs_background": "light"
     },
     "output_type": "display_data"
    },
    {
     "name": "stdout",
     "output_type": "stream",
     "text": [
      "given digit is  [9]\n"
     ]
    },
    {
     "data": {
      "image/png": "[encoded data removed]",
      "text/plain": [
       "<Figure size 432x288 with 1 Axes>"
      ]
     },
     "metadata": {
      "needs_background": "light"
     },
     "output_type": "display_data"
    },
    {
     "name": "stdout",
     "output_type": "stream",
     "text": [
      "given digit is  [1]\n"
     ]
    },
    {
     "data": {
      "image/png": "[encoded data removed]",
      "text/plain": [
       "<Figure size 432x288 with 1 Axes>"
      ]
     },
     "metadata": {
      "needs_background": "light"
     },
     "output_type": "display_data"
    },
    {
     "name": "stdout",
     "output_type": "stream",
     "text": [
      "given digit is  [3]\n"
     ]
    },
    {
     "data": {
      "image/png": "[encoded data removed]",
      "text/plain": [
       "<Figure size 432x288 with 1 Axes>"
      ]
     },
     "metadata": {
      "needs_background": "light"
     },
     "output_type": "display_data"
    },
    {
     "name": "stdout",
     "output_type": "stream",
     "text": [
      "given digit is  [0]\n"
     ]
    },
    {
     "data": {
      "image/png": "[encoded data removed]",
      "text/plain": [
       "<Figure size 432x288 with 1 Axes>"
      ]
     },
     "metadata": {
      "needs_background": "light"
     },
     "output_type": "display_data"
    },
    {
     "name": "stdout",
     "output_type": "stream",
     "text": [
      "given digit is  [2]\n"
     ]
    },
    {
     "data": {
      "image/png": "[encoded data removed]",
      "text/plain": [
       "<Figure size 432x288 with 1 Axes>"
      ]
     },
     "metadata": {
      "needs_background": "light"
     },
     "output_type": "display_data"
    },
    {
     "name": "stdout",
     "output_type": "stream",
     "text": [
      "given digit is  [5]\n"
     ]
    },
    {
     "data": {
      "image/png": "[encoded data removed]",
      "text/plain": [
       "<Figure size 432x288 with 1 Axes>"
      ]
     },
     "metadata": {
      "needs_background": "light"
     },
     "output_type": "display_data"
    },
    {
     "name": "stdout",
     "output_type": "stream",
     "text": [
      "given digit is  [4]\n"
     ]
    }
   ],
   "source": [
    "for i in range(10):\n",
    "    X = X_test[i].reshape(8,8)\n",
    "    plt.imshow(X,cmap = 'gray')\n",
    "    plt.show()\n",
    "    y = knn_mod.predict(X_test[i].reshape(1,-1))\n",
    "    print('given digit is ',y )"
   ]
  },
  {
   "cell_type": "code",
   "execution_count": 19,
   "id": "f4bed72f",
   "metadata": {},
   "outputs": [
    {
     "name": "stdout",
     "output_type": "stream",
     "text": [
      "Accuracy of the model is  98.61111111111111\n"
     ]
    }
   ],
   "source": [
    "accuracy = sum(y_test == predict_test)/len(y_test) *100\n",
    "print('Accuracy of the model is ', accuracy)"
   ]
  },
  {
   "cell_type": "code",
   "execution_count": 23,
   "id": "bc6f30a3",
   "metadata": {},
   "outputs": [
    {
     "data": {
      "text/plain": [
       "<AxesSubplot:>"
      ]
     },
     "execution_count": 23,
     "metadata": {},
     "output_type": "execute_result"
    },
    {
     "data": {
      "image/png": "[encoded data removed]",
      "text/plain": [
       "<Figure size 432x288 with 2 Axes>"
      ]
     },
     "metadata": {
      "needs_background": "light"
     },
     "output_type": "display_data"
    }
   ],
   "source": [
    "from sklearn.metrics import confusion_matrix\n",
    "import seaborn as sns\n",
    "cm = confusion_matrix(y_test, predict_test)\n",
    "sns.heatmap(cm,annot=True)"
   ]
  },
  {
   "cell_type": "markdown",
   "id": "ae1bb46f",
   "metadata": {},
   "source": [
    "# SOLUTION BY PRANJAL KALEKAR"
   ]
  }
 ],
 "metadata": {
  "kernelspec": {
   "display_name": "Python 3",
   "language": "python",
   "name": "python3"
  },
  "language_info": {
   "codemirror_mode": {
    "name": "ipython",
    "version": 3
   },
   "file_extension": ".py",
   "mimetype": "text/x-python",
   "name": "python",
   "nbconvert_exporter": "python",
   "pygments_lexer": "ipython3",
   "version": "3.8.8"
  }
 },
 "nbformat": 4,
 "nbformat_minor": 5
}
